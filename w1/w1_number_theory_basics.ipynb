{
 "cells": [
  {
   "cell_type": "markdown",
   "metadata": {
    "deletable": false,
    "editable": false,
    "nbgrader": {
     "cell_type": "markdown",
     "checksum": "c37aad12182af48c054b06e9259310f1",
     "grade": false,
     "grade_id": "cell-5360a30370afc05c",
     "locked": true,
     "schema_version": 3,
     "solution": false,
     "task": false
    }
   },
   "source": [
    "# Week 1. Number theory basics"
   ]
  },
  {
   "cell_type": "markdown",
   "metadata": {
    "deletable": false,
    "editable": false,
    "nbgrader": {
     "cell_type": "markdown",
     "checksum": "07c6e87d158d16de165398cc3afb31f5",
     "grade": false,
     "grade_id": "cell-208ee0e39cd1c7da",
     "locked": true,
     "schema_version": 3,
     "solution": false,
     "task": false
    }
   },
   "source": [
    "In this assignment we are going to work with factorials, Sieve of Eratosthenes, least prime factor, binomial coefficient, catalan numbers and fibonacci. Code first and then fill up the questions."
   ]
  },
  {
   "cell_type": "markdown",
   "metadata": {
    "deletable": false,
    "editable": false,
    "nbgrader": {
     "cell_type": "markdown",
     "checksum": "2d1bf0cac8c0c80fca9eb2c7e0742973",
     "grade": false,
     "grade_id": "cell-3cc802aa21fcc7fb",
     "locked": true,
     "schema_version": 3,
     "solution": false,
     "task": false
    }
   },
   "source": [
    "### Grading\n",
    "The assignment is automatically graded. \n",
    "\n",
    "**Automatic grading**\n",
    "After you finish solving all the tasks restart the kernel (`kernel -> restart`) and click the button `Validate` to check that everything works as expected. Afterwards, you can submit your work.\n",
    "\n",
    "**Please delete raise NotImplementedError() after writing Python statements in a code cell**"
   ]
  },
  {
   "cell_type": "markdown",
   "metadata": {
    "deletable": false,
    "editable": false,
    "nbgrader": {
     "cell_type": "markdown",
     "checksum": "6c71dba84a90f0cde4f8e86eafe25372",
     "grade": false,
     "grade_id": "cell-0a288a3b4ed29b3c",
     "locked": true,
     "schema_version": 3,
     "solution": false,
     "task": false
    }
   },
   "source": [
    "### Coding part"
   ]
  },
  {
   "cell_type": "code",
   "execution_count": 1,
   "metadata": {},
   "outputs": [],
   "source": [
    "def factorial(n) :\n",
    "    if n == 0:\n",
    "        return 1\n",
    "    else:\n",
    "        return n * factorial(n - 1)    \n",
    "         \n",
    "def multiply(x, res, res_size) :\n",
    "    carry = 0\n",
    "    for i in range(res_size):\n",
    "        prod = res[i] * x + carry\n",
    "        res[i] = prod % 10\n",
    "        carry = prod // 10\n",
    "    while carry:\n",
    "        res[res_size] = carry % 10\n",
    "        carry = carry // 10\n",
    "        res_size += 1\n",
    "    return res_size   "
   ]
  },
  {
   "cell_type": "code",
   "execution_count": 2,
   "metadata": {},
   "outputs": [],
   "source": [
    "def SieveOfEratosthenes(n):\n",
    "    prime = [True for i in range(n + 1)]\n",
    "    p = 2\n",
    "    while (p * p <= n):\n",
    "        if (prime[p] == True):\n",
    "            for i in range(p * p, n + 1, p):\n",
    "                prime[i] = False\n",
    "        p += 1\n",
    "    prime[0] = False\n",
    "    prime[1] = False\n",
    "    return prime "
   ]
  },
  {
   "cell_type": "code",
   "execution_count": 3,
   "metadata": {},
   "outputs": [],
   "source": [
    "def leastPrimeFactor(n) :\n",
    "    # your code here\n",
    "    least_prime = [0] * (n + 1)\n",
    "    least_prime[1] = 1\n",
    "    for i in range(2, n + 1):\n",
    "        if least_prime[i] == 0:\n",
    "            least_prime[i] = i\n",
    "            for j in range(i * i, n + 1, i):\n",
    "                if least_prime[j] == 0:\n",
    "                    least_prime[j] = i\n",
    "    return least_prime  "
   ]
  },
  {
   "cell_type": "code",
   "execution_count": 4,
   "metadata": {},
   "outputs": [],
   "source": [
    "def binomialCoeff(n, k):\n",
    "    if k > n:\n",
    "        return 0\n",
    "    if k == 0 or k == n:\n",
    "        return 1\n",
    "    if k == 1 or k == n - 1:\n",
    "        return n\n",
    "    if k > n // 2:\n",
    "        k = n - k\n",
    "    res = [0] * (k + 1)\n",
    "    res[0] = 1\n",
    "    for i in range(1, n + 1):\n",
    "        for j in range(min(i, k), 0, -1):\n",
    "            res[j] = res[j] + res[j - 1]\n",
    "    return res[k]  "
   ]
  },
  {
   "cell_type": "code",
   "execution_count": 5,
   "metadata": {},
   "outputs": [],
   "source": [
    "def catalan(n):\n",
    "    c = binomialCoeff(2 * n, n)\n",
    "    return c // (n + 1)"
   ]
  },
  {
   "cell_type": "code",
   "execution_count": 6,
   "metadata": {},
   "outputs": [],
   "source": [
    "def fibonacci(n):\n",
    "    a, b = 0, 1\n",
    "    for _ in range(n):\n",
    "        a, b = b, a + b\n",
    "    return a"
   ]
  },
  {
   "cell_type": "markdown",
   "metadata": {
    "deletable": false,
    "editable": false,
    "nbgrader": {
     "cell_type": "markdown",
     "checksum": "b8d90c95ec41487664371c55cc5f336b",
     "grade": false,
     "grade_id": "cell-0684edfd1b18164e",
     "locked": true,
     "schema_version": 3,
     "solution": false,
     "task": false
    }
   },
   "source": [
    "<br><br>\n",
    "\n",
    "### Questions\n",
    "\n",
    "<br><br>\n",
    "\n",
    "**Question 1.** What is the first 10 digits of the factorial of 75?"
   ]
  },
  {
   "cell_type": "code",
   "execution_count": 7,
   "metadata": {
    "deletable": false,
    "nbgrader": {
     "cell_type": "code",
     "checksum": "2dca99a5413478112ce74ac8e70f4dff",
     "grade": false,
     "grade_id": "cell-00fb472702bf77cb",
     "locked": false,
     "schema_version": 3,
     "solution": true,
     "task": false
    }
   },
   "outputs": [],
   "source": [
    "def q1():\n",
    "    n = 75\n",
    "    fact = factorial(n)\n",
    "    return str(fact)[:10]\n",
    "\n",
    "answer_part_1 = q1()"
   ]
  },
  {
   "cell_type": "code",
   "execution_count": 8,
   "metadata": {
    "deletable": false,
    "editable": false,
    "nbgrader": {
     "cell_type": "code",
     "checksum": "1d631e63f9f79249a8d0bd4a6f09aa03",
     "grade": true,
     "grade_id": "cell-1317e2da4951da8b",
     "locked": true,
     "points": 1,
     "schema_version": 3,
     "solution": false,
     "task": false
    }
   },
   "outputs": [
    {
     "name": "stdout",
     "output_type": "stream",
     "text": [
      "Answer part 1: 2480914081\n"
     ]
    }
   ],
   "source": [
    "print(\"Answer part 1: {}\".format(answer_part_1))"
   ]
  },
  {
   "cell_type": "markdown",
   "metadata": {
    "deletable": false,
    "editable": false,
    "nbgrader": {
     "cell_type": "markdown",
     "checksum": "9a486b15b86940af0b36836a67900661",
     "grade": false,
     "grade_id": "cell-93d02ab5fdb6df57",
     "locked": true,
     "schema_version": 3,
     "solution": false,
     "task": false
    }
   },
   "source": [
    "<br>\n",
    "\n",
    "**Question 2.** How many prime numbers are for the limit 5500?"
   ]
  },
  {
   "cell_type": "code",
   "execution_count": 9,
   "metadata": {
    "deletable": false,
    "nbgrader": {
     "cell_type": "code",
     "checksum": "0e8f05eade5140bd40506344a30ba25b",
     "grade": false,
     "grade_id": "cell-71f8a51fb0aa7e09",
     "locked": false,
     "schema_version": 3,
     "solution": true,
     "task": false
    }
   },
   "outputs": [],
   "source": [
    "def q2():\n",
    "    n = 5500\n",
    "    prime = SieveOfEratosthenes(n)\n",
    "    return sum(prime)\n",
    "\n",
    "answer_part_2 = q2()"
   ]
  },
  {
   "cell_type": "code",
   "execution_count": 10,
   "metadata": {
    "deletable": false,
    "editable": false,
    "nbgrader": {
     "cell_type": "code",
     "checksum": "0a9b7a1081bdf6b0d85e1ea07906f963",
     "grade": true,
     "grade_id": "cell-61e740cdaca02c3b",
     "locked": true,
     "points": 1,
     "schema_version": 3,
     "solution": false,
     "task": false
    }
   },
   "outputs": [
    {
     "name": "stdout",
     "output_type": "stream",
     "text": [
      "Answer part 2: 725\n"
     ]
    }
   ],
   "source": [
    "print(\"Answer part 2: {}\".format(answer_part_2))"
   ]
  },
  {
   "cell_type": "markdown",
   "metadata": {
    "deletable": false,
    "editable": false,
    "nbgrader": {
     "cell_type": "markdown",
     "checksum": "555eeb55e9ecc1f76acf72090f503077",
     "grade": false,
     "grade_id": "cell-248352f72a67e795",
     "locked": true,
     "schema_version": 3,
     "solution": false,
     "task": false
    }
   },
   "source": [
    "<br>\n",
    "\n",
    "**Question 3.** What is least prime factor of 1236?"
   ]
  },
  {
   "cell_type": "code",
   "execution_count": 11,
   "metadata": {
    "deletable": false,
    "nbgrader": {
     "cell_type": "code",
     "checksum": "c2592db69e15317460ee51a4f82d0b43",
     "grade": false,
     "grade_id": "cell-cc1d07921b2f0378",
     "locked": false,
     "schema_version": 3,
     "solution": true,
     "task": false
    }
   },
   "outputs": [],
   "source": [
    "def q3():\n",
    "    n = 1236\n",
    "    least_prime = leastPrimeFactor(n)\n",
    "    return least_prime[n]\n",
    "\n",
    "answer_part_3 = q3()"
   ]
  },
  {
   "cell_type": "code",
   "execution_count": 12,
   "metadata": {
    "deletable": false,
    "editable": false,
    "nbgrader": {
     "cell_type": "code",
     "checksum": "b8f79a9c70cf02a4d66149ee48b82e1e",
     "grade": true,
     "grade_id": "cell-0d2f2134802e6006",
     "locked": true,
     "points": 1,
     "schema_version": 3,
     "solution": false,
     "task": false
    }
   },
   "outputs": [
    {
     "name": "stdout",
     "output_type": "stream",
     "text": [
      "Answer part 3: 2\n"
     ]
    }
   ],
   "source": [
    "print(\"Answer part 3: {}\".format(answer_part_3))"
   ]
  },
  {
   "cell_type": "markdown",
   "metadata": {
    "deletable": false,
    "editable": false,
    "nbgrader": {
     "cell_type": "markdown",
     "checksum": "8fa5a8ca0c3b09eb74ed7da9f4f3a94d",
     "grade": false,
     "grade_id": "cell-d0b963636ad9b271",
     "locked": true,
     "schema_version": 3,
     "solution": false,
     "task": false
    }
   },
   "source": [
    "<br>\n",
    "\n",
    "**Question 4.** What is the binomial coefficient of 40 and 10?"
   ]
  },
  {
   "cell_type": "code",
   "execution_count": 13,
   "metadata": {
    "deletable": false,
    "nbgrader": {
     "cell_type": "code",
     "checksum": "7c83ce9a0536021ca2e2b847236c7afa",
     "grade": false,
     "grade_id": "cell-7c2ecdc843b2463e",
     "locked": false,
     "schema_version": 3,
     "solution": true,
     "task": false
    }
   },
   "outputs": [],
   "source": [
    "def q4():\n",
    "    n = 40\n",
    "    k = 10\n",
    "    return binomialCoeff(n, k)\n",
    "\n",
    "answer_part_4 = q4()"
   ]
  },
  {
   "cell_type": "code",
   "execution_count": 14,
   "metadata": {
    "deletable": false,
    "editable": false,
    "nbgrader": {
     "cell_type": "code",
     "checksum": "fc67a8721e026ea6c790ddcd12059afa",
     "grade": true,
     "grade_id": "cell-d895a35adfb2a652",
     "locked": true,
     "points": 1,
     "schema_version": 3,
     "solution": false,
     "task": false
    }
   },
   "outputs": [
    {
     "name": "stdout",
     "output_type": "stream",
     "text": [
      "Answer part 4: 847660528\n"
     ]
    }
   ],
   "source": [
    "print(\"Answer part 4: {}\".format(answer_part_4))"
   ]
  },
  {
   "cell_type": "markdown",
   "metadata": {
    "deletable": false,
    "editable": false,
    "nbgrader": {
     "cell_type": "markdown",
     "checksum": "f0242b04fe398b2b4360815853f33374",
     "grade": false,
     "grade_id": "cell-bf549c5b2513e337",
     "locked": true,
     "schema_version": 3,
     "solution": false,
     "task": false
    }
   },
   "source": [
    "<br>\n",
    "\n",
    "**Question 5.** What is the first 10 digits of the catalan number of 100?"
   ]
  },
  {
   "cell_type": "code",
   "execution_count": 15,
   "metadata": {
    "deletable": false,
    "nbgrader": {
     "cell_type": "code",
     "checksum": "a1829efc2fc5e66dfd9d64791bc16d00",
     "grade": false,
     "grade_id": "cell-ae25cb880d116c58",
     "locked": false,
     "schema_version": 3,
     "solution": true,
     "task": false
    }
   },
   "outputs": [],
   "source": [
    "def q5():\n",
    "    n = 100\n",
    "    cat = catalan(n)\n",
    "    return str(cat)[:10]\n",
    "\n",
    "answer_part_5 = q5()"
   ]
  },
  {
   "cell_type": "code",
   "execution_count": 16,
   "metadata": {
    "deletable": false,
    "editable": false,
    "nbgrader": {
     "cell_type": "code",
     "checksum": "d587f12b7d0054eca7df3cdbe9b1ce19",
     "grade": true,
     "grade_id": "cell-c570f8cea014a359",
     "locked": true,
     "points": 1,
     "schema_version": 3,
     "solution": false,
     "task": false
    }
   },
   "outputs": [
    {
     "name": "stdout",
     "output_type": "stream",
     "text": [
      "Answer part 4: 847660528\n"
     ]
    }
   ],
   "source": [
    "print(\"Answer part 4: {}\".format(answer_part_4))"
   ]
  },
  {
   "cell_type": "markdown",
   "metadata": {
    "deletable": false,
    "editable": false,
    "nbgrader": {
     "cell_type": "markdown",
     "checksum": "e2f4c1006b0b3d800650ac51efd07c4e",
     "grade": false,
     "grade_id": "cell-33b076877590fa96",
     "locked": true,
     "schema_version": 3,
     "solution": false,
     "task": false
    }
   },
   "source": [
    "<br><br>\n",
    "\n",
    "**Question 6.** What is the last 10 digits of the fibonacci 100th number?"
   ]
  },
  {
   "cell_type": "code",
   "execution_count": 17,
   "metadata": {
    "deletable": false,
    "nbgrader": {
     "cell_type": "code",
     "checksum": "88cf4489f2f01834f3d2f1cab2871ffd",
     "grade": false,
     "grade_id": "cell-c5bd9060fe92bc63",
     "locked": false,
     "schema_version": 3,
     "solution": true,
     "task": false
    }
   },
   "outputs": [],
   "source": [
    "def q6():\n",
    "    n = 100\n",
    "    fib = fibonacci(n)\n",
    "    return str(fib)[-10:]\n",
    "\n",
    "answer_part_6 = q6()"
   ]
  },
  {
   "cell_type": "code",
   "execution_count": 18,
   "metadata": {
    "deletable": false,
    "editable": false,
    "nbgrader": {
     "cell_type": "code",
     "checksum": "e52a7255210cc5e4505520f35a16e714",
     "grade": true,
     "grade_id": "cell-11d148ceee0d0f27",
     "locked": true,
     "points": 1,
     "schema_version": 3,
     "solution": false,
     "task": false
    }
   },
   "outputs": [
    {
     "name": "stdout",
     "output_type": "stream",
     "text": [
      "Answer part 4: 847660528\n"
     ]
    }
   ],
   "source": [
    "print(\"Answer part 4: {}\".format(answer_part_4))"
   ]
  }
 ],
 "metadata": {
  "kernelspec": {
   "display_name": "Python 3 (ipykernel)",
   "language": "python",
   "name": "python3"
  },
  "language_info": {
   "codemirror_mode": {
    "name": "ipython",
    "version": 3
   },
   "file_extension": ".py",
   "mimetype": "text/x-python",
   "name": "python",
   "nbconvert_exporter": "python",
   "pygments_lexer": "ipython3",
   "version": "3.10.10"
  }
 },
 "nbformat": 4,
 "nbformat_minor": 4
}

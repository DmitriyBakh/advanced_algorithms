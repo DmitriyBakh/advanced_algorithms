{
 "cells": [
  {
   "cell_type": "markdown",
   "metadata": {
    "deletable": false,
    "editable": false,
    "nbgrader": {
     "cell_type": "markdown",
     "checksum": "d08a01f00821efde5d0814643f3b4fce",
     "grade": false,
     "grade_id": "cell-f1db8a746d2137d2",
     "locked": true,
     "schema_version": 3,
     "solution": false,
     "task": false
    }
   },
   "source": [
    "# Week 1. Modular arithmetics"
   ]
  },
  {
   "cell_type": "markdown",
   "metadata": {
    "deletable": false,
    "editable": false,
    "nbgrader": {
     "cell_type": "markdown",
     "checksum": "0eb0aeb04b3b2786fc905393ceeba171",
     "grade": false,
     "grade_id": "cell-43b17eb5e16312fb",
     "locked": true,
     "schema_version": 3,
     "solution": false,
     "task": false
    }
   },
   "source": [
    "In this assignment we are going to work with algorithmic problems. Code first and then fill up the questions."
   ]
  },
  {
   "cell_type": "markdown",
   "metadata": {
    "deletable": false,
    "editable": false,
    "nbgrader": {
     "cell_type": "markdown",
     "checksum": "3ae4b4703ee828293028d2d4febf73af",
     "grade": false,
     "grade_id": "cell-7f0cf23f28aa4858",
     "locked": true,
     "schema_version": 3,
     "solution": false,
     "task": false
    }
   },
   "source": [
    "### Grading\n",
    "The assignment is automatically graded. \n",
    "\n",
    "**Automatic grading**\n",
    "After you finish solving all the tasks restart the kernel (`kernel -> restart`) and click the button `Validate` to check that everything works as expected. Afterwards, you can submit your work.\n",
    "\n",
    "**Please delete raise NotImplementedError() after writing Python statements in a code cell**"
   ]
  },
  {
   "cell_type": "markdown",
   "metadata": {
    "deletable": false,
    "editable": false,
    "nbgrader": {
     "cell_type": "markdown",
     "checksum": "903d54b041703d6526508f6d48c47a51",
     "grade": false,
     "grade_id": "cell-25ecb994df5dba83",
     "locked": true,
     "schema_version": 3,
     "solution": false,
     "task": false
    }
   },
   "source": [
    "### Coding part"
   ]
  },
  {
   "cell_type": "code",
   "execution_count": 1,
   "metadata": {},
   "outputs": [],
   "source": [
    "def GCD(a, b ) :\n",
    "    if b == 0:\n",
    "        return a\n",
    "    return GCD(b, a % b)    \n",
    "\n",
    "def multiplicativeOrder(a, n) :\n",
    "    if GCD(a, n) != 1:\n",
    "        return -1\n",
    "    result = 1\n",
    "    k = 1\n",
    "    while k < n:\n",
    "        k = k * a\n",
    "        result += 1\n",
    "    return result"
   ]
  },
  {
   "cell_type": "code",
   "execution_count": 2,
   "metadata": {},
   "outputs": [],
   "source": [
    "def nCrModp(n, r, p):\n",
    "    if r > n:\n",
    "        return 0\n",
    "    if r == 0 or r == n:\n",
    "        return 1\n",
    "    if r == 1 or r == n - 1:\n",
    "        return n\n",
    "    if r > n // 2:\n",
    "        r = n - r\n",
    "    res = [0] * (r + 1)\n",
    "    res[0] = 1\n",
    "    for i in range(1, n + 1):\n",
    "        for j in range(min(i, r), 0, -1):\n",
    "            res[j] = (res[j] + res[j - 1]) % p\n",
    "    return res[r]"
   ]
  },
  {
   "cell_type": "code",
   "execution_count": 3,
   "metadata": {},
   "outputs": [],
   "source": [
    "def findPrimitive(n) :\n",
    "    result = []\n",
    "    for r in range(1, n):\n",
    "        flag = True\n",
    "        for i in range(2, n):\n",
    "            if nCrModp(i, r, n) == 1:\n",
    "                flag = False\n",
    "                break\n",
    "        if flag:\n",
    "            result.append(r)\n",
    "    return result"
   ]
  },
  {
   "cell_type": "markdown",
   "metadata": {
    "deletable": false,
    "editable": false,
    "nbgrader": {
     "cell_type": "markdown",
     "checksum": "a193392af153fa0efe998e154e14d120",
     "grade": false,
     "grade_id": "cell-9687b31418b8bcc4",
     "locked": true,
     "schema_version": 3,
     "solution": false,
     "task": false
    }
   },
   "source": [
    "<br><br>\n",
    "\n",
    "### Questions\n",
    "\n",
    "<br><br>\n",
    "\n",
    "**Question 1.** What is the multiplicative order of 25 and 148?"
   ]
  },
  {
   "cell_type": "code",
   "execution_count": 4,
   "metadata": {
    "deletable": false,
    "nbgrader": {
     "cell_type": "code",
     "checksum": "492f8012c8f634b909c7233440b68e2f",
     "grade": false,
     "grade_id": "cell-b668842fa4f49d41",
     "locked": false,
     "schema_version": 3,
     "solution": true,
     "task": false
    }
   },
   "outputs": [],
   "source": [
    "def q1():\n",
    "    return multiplicativeOrder(25, 148)\n",
    "\n",
    "answer_part_1 = q1()"
   ]
  },
  {
   "cell_type": "code",
   "execution_count": 5,
   "metadata": {
    "deletable": false,
    "editable": false,
    "nbgrader": {
     "cell_type": "code",
     "checksum": "eab4022eff6d43ff3caea0929f235184",
     "grade": true,
     "grade_id": "cell-c0f1500888896927",
     "locked": true,
     "points": 1,
     "schema_version": 3,
     "solution": false,
     "task": false
    }
   },
   "outputs": [
    {
     "name": "stdout",
     "output_type": "stream",
     "text": [
      "Answer for question 1: 3\n"
     ]
    }
   ],
   "source": [
    "print(\"Answer for question 1: {}\".format(answer_part_1))"
   ]
  },
  {
   "cell_type": "markdown",
   "metadata": {
    "deletable": false,
    "editable": false,
    "nbgrader": {
     "cell_type": "markdown",
     "checksum": "a12d0236af546027e9d49af33d41b563",
     "grade": false,
     "grade_id": "cell-6803fcf53fb86e56",
     "locked": true,
     "schema_version": 3,
     "solution": false,
     "task": false
    }
   },
   "source": [
    "<br>\n",
    "\n",
    "**Question 2.** What is the binomial coefficient 500 200 and modulo 1345?"
   ]
  },
  {
   "cell_type": "code",
   "execution_count": 6,
   "metadata": {
    "deletable": false,
    "nbgrader": {
     "cell_type": "code",
     "checksum": "99460d96ac502c674adf0143265f3b8b",
     "grade": false,
     "grade_id": "cell-912c15620f678e8c",
     "locked": false,
     "schema_version": 3,
     "solution": true,
     "task": false
    }
   },
   "outputs": [],
   "source": [
    "def q2():\n",
    "    return nCrModp(500, 200, 1345)\n",
    "\n",
    "answer_part_2 = q2()"
   ]
  },
  {
   "cell_type": "code",
   "execution_count": 7,
   "metadata": {
    "deletable": false,
    "editable": false,
    "nbgrader": {
     "cell_type": "code",
     "checksum": "a4b638eee95a7de8ed0ec7c266d66a22",
     "grade": true,
     "grade_id": "cell-5f6041d660a51a59",
     "locked": true,
     "points": 1,
     "schema_version": 3,
     "solution": false,
     "task": false
    }
   },
   "outputs": [
    {
     "name": "stdout",
     "output_type": "stream",
     "text": [
      "Answer for question 2: 330\n"
     ]
    }
   ],
   "source": [
    "print(\"Answer for question 2: {}\".format(answer_part_2))"
   ]
  },
  {
   "cell_type": "markdown",
   "metadata": {
    "deletable": false,
    "editable": false,
    "nbgrader": {
     "cell_type": "markdown",
     "checksum": "878f88cc4c04b2aefabde3e735666a39",
     "grade": false,
     "grade_id": "cell-2e1e18d5340b8032",
     "locked": true,
     "schema_version": 3,
     "solution": false,
     "task": false
    }
   },
   "source": [
    "<br>\n",
    "\n",
    "**Question 3.** What is the primitive roof of a prime 8754?"
   ]
  },
  {
   "cell_type": "code",
   "execution_count": 8,
   "metadata": {
    "deletable": false,
    "nbgrader": {
     "cell_type": "code",
     "checksum": "9b9a85cee24696a736ac3b559ed32987",
     "grade": false,
     "grade_id": "cell-fd04ecc7723c12c1",
     "locked": false,
     "schema_version": 3,
     "solution": true,
     "task": false
    }
   },
   "outputs": [],
   "source": [
    "def q3():\n",
    "    return findPrimitive(8754)\n",
    "\n",
    "answer_part_3 = q3()"
   ]
  },
  {
   "cell_type": "code",
   "execution_count": 9,
   "metadata": {
    "deletable": false,
    "editable": false,
    "nbgrader": {
     "cell_type": "code",
     "checksum": "4be8090d5510df037ee3c21eb9e969d3",
     "grade": true,
     "grade_id": "cell-a5c28fe79f428376",
     "locked": true,
     "points": 1,
     "schema_version": 3,
     "solution": false,
     "task": false
    }
   },
   "outputs": [
    {
     "name": "stdout",
     "output_type": "stream",
     "text": [
      "Answer for question 3: [1]\n"
     ]
    }
   ],
   "source": [
    "print(\"Answer for question 3: {}\".format(answer_part_3))"
   ]
  },
  {
   "cell_type": "markdown",
   "metadata": {
    "deletable": false,
    "editable": false,
    "nbgrader": {
     "cell_type": "markdown",
     "checksum": "04cec50a7b9291345bddccbab36fb859",
     "grade": false,
     "grade_id": "cell-7f78d2947a77ed97",
     "locked": true,
     "schema_version": 3,
     "solution": false,
     "task": false
    }
   },
   "source": [
    "<br>\n",
    "\n",
    "**Question 4.** What is the primitive roof of a prime 8751?"
   ]
  },
  {
   "cell_type": "code",
   "execution_count": 10,
   "metadata": {
    "deletable": false,
    "nbgrader": {
     "cell_type": "code",
     "checksum": "105dbd3cc96edd06f6e4eb163efdc502",
     "grade": false,
     "grade_id": "cell-191f4ece64a22eb1",
     "locked": false,
     "schema_version": 3,
     "solution": true,
     "task": false
    }
   },
   "outputs": [],
   "source": [
    "def q4():\n",
    "    return findPrimitive(8751)\n",
    "\n",
    "answer_part_4 = q4()"
   ]
  },
  {
   "cell_type": "code",
   "execution_count": 11,
   "metadata": {
    "deletable": false,
    "editable": false,
    "nbgrader": {
     "cell_type": "code",
     "checksum": "10891b7ec8bcf4409cbd4c8a5f625b76",
     "grade": true,
     "grade_id": "cell-b6ad496486833a01",
     "locked": true,
     "points": 1,
     "schema_version": 3,
     "solution": false,
     "task": false
    }
   },
   "outputs": [
    {
     "name": "stdout",
     "output_type": "stream",
     "text": [
      "Answer for question 4: [1]\n"
     ]
    }
   ],
   "source": [
    "print(\"Answer for question 4: {}\".format(answer_part_4))"
   ]
  }
 ],
 "metadata": {
  "kernelspec": {
   "display_name": "Python 3 (ipykernel)",
   "language": "python",
   "name": "python3"
  },
  "language_info": {
   "codemirror_mode": {
    "name": "ipython",
    "version": 3
   },
   "file_extension": ".py",
   "mimetype": "text/x-python",
   "name": "python",
   "nbconvert_exporter": "python",
   "pygments_lexer": "ipython3",
   "version": "3.10.10"
  }
 },
 "nbformat": 4,
 "nbformat_minor": 4
}
